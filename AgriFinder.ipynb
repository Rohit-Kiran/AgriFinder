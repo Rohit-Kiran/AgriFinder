{
 "cells": [
  {
   "cell_type": "code",
   "execution_count": 29,
   "id": "a26b2413",
   "metadata": {},
   "outputs": [],
   "source": [
    "import pandas as pd\n",
    "import numpy as np\n",
    "import seaborn as sns\n",
    "import matplotlib.pyplot as plt\n",
    "import warnings\n",
    "import os\n",
    "import plotly.graph_objects as go\n",
    "import plotly.io as pio\n",
    "import pickle\n",
    "from sklearn.utils import resample\n"
   ]
  },
  {
   "cell_type": "code",
   "execution_count": 30,
   "id": "cdb1312d",
   "metadata": {},
   "outputs": [],
   "source": [
    "from sklearn.metrics import accuracy_score, classification_report, confusion_matrix, auc, roc_curve"
   ]
  },
  {
   "cell_type": "code",
   "execution_count": 31,
   "id": "f1a18926",
   "metadata": {},
   "outputs": [],
   "source": [
    "from sklearn.model_selection import train_test_split, cross_val_score, KFold\n",
    "from sklearn.pipeline import Pipeline, make_pipeline\n"
   ]
  },
  {
   "cell_type": "code",
   "execution_count": 32,
   "id": "47fe5f30",
   "metadata": {},
   "outputs": [],
   "source": [
    "from sklearn.model_selection import GridSearchCV"
   ]
  },
  {
   "cell_type": "code",
   "execution_count": 33,
   "id": "91c5fde7",
   "metadata": {},
   "outputs": [],
   "source": [
    "from sklearn.feature_selection import RFE"
   ]
  },
  {
   "cell_type": "code",
   "execution_count": 34,
   "id": "783f2dd3",
   "metadata": {},
   "outputs": [],
   "source": [
    "from sklearn.preprocessing import MinMaxScaler, StandardScaler, Normalizer, Binarizer, LabelEncoder"
   ]
  },
  {
   "cell_type": "code",
   "execution_count": 35,
   "id": "e7e8b321",
   "metadata": {},
   "outputs": [],
   "source": [
    "from sklearn.discriminant_analysis import LinearDiscriminantAnalysis\n",
    "from sklearn.linear_model import LogisticRegression\n",
    "from sklearn.naive_bayes import GaussianNB\n",
    "from sklearn.svm import SVC\n",
    "from sklearn.neighbors import KNeighborsClassifier\n",
    "from sklearn.tree import DecisionTreeClassifier\n"
   ]
  },
  {
   "cell_type": "code",
   "execution_count": 36,
   "id": "93e2c4d7",
   "metadata": {},
   "outputs": [],
   "source": [
    "from sklearn.ensemble import RandomForestClassifier\n",
    "from sklearn.ensemble import BaggingClassifier\n",
    "from sklearn.ensemble import AdaBoostClassifier\n",
    "from sklearn.ensemble import GradientBoostingClassifier\n",
    "from sklearn.ensemble import ExtraTreesClassifier\n"
   ]
  },
  {
   "cell_type": "code",
   "execution_count": 37,
   "id": "ef0f93d5",
   "metadata": {},
   "outputs": [],
   "source": [
    "warnings.filterwarnings('ignore')\n"
   ]
  },
  {
   "cell_type": "code",
   "execution_count": 38,
   "id": "bff3fb67",
   "metadata": {},
   "outputs": [],
   "source": [
    "\n",
    "sns.set_style(\"whitegrid\", {'axes.grid' : False})\n",
    "pio.templates.default = \"plotly_white\""
   ]
  },
  {
   "cell_type": "code",
   "execution_count": 39,
   "id": "98baaa90",
   "metadata": {},
   "outputs": [],
   "source": [
    "def explore_data(df):\n",
    "    print(\"Number of Instances and Attributes:\", df.shape)\n",
    "    print('\\n')\n",
    "    print('Dataset columns:',df.columns)\n",
    "    print('\\n')\n",
    "    print('Data types of each columns: ', df.info())"
   ]
  },
  {
   "cell_type": "code",
   "execution_count": 40,
   "id": "da40e765",
   "metadata": {},
   "outputs": [],
   "source": [
    "def checking_removing_duplicates(df):\n",
    "    count_dups = df.duplicated().sum()\n",
    "    print(\"Number of Duplicates: \", count_dups)\n",
    "    if count_dups >= 1:\n",
    "        df.drop_duplicates(inplace=True)\n",
    "        print('Duplicate values removed!')\n",
    "    else:\n",
    "        print('No Duplicate values')"
   ]
  },
  {
   "cell_type": "code",
   "execution_count": 41,
   "id": "0cdaeec9",
   "metadata": {},
   "outputs": [],
   "source": [
    "def read_in_and_split_data(data, target):\n",
    "    if target not in data.columns:\n",
    "        raise ValueError(\"Target variable not found in DataFrame.\")\n",
    "    X = data.drop(target, axis=1)\n",
    "    y = data[target]\n",
    "    X_train, X_test, y_train, y_test = train_test_split(X,y,test_size=0.2, random_state=0)\n",
    "    return X_train, X_test, y_train, y_test"
   ]
  },
  {
   "cell_type": "code",
   "execution_count": 42,
   "id": "befb6152",
   "metadata": {},
   "outputs": [],
   "source": [
    "def GetModel():\n",
    "    Models = []\n",
    "    Models.append(('LR'   , LogisticRegression()))\n",
    "    Models.append(('LDA'  , LinearDiscriminantAnalysis()))\n",
    "    Models.append(('KNN'  , KNeighborsClassifier()))\n",
    "    Models.append(('CART' , DecisionTreeClassifier()))\n",
    "    Models.append(('NB'   , GaussianNB()))\n",
    "    Models.append(('SVM'  , SVC(probability=True)))\n",
    "    return Models\n"
   ]
  },
  {
   "cell_type": "code",
   "execution_count": 43,
   "id": "96785ea9",
   "metadata": {},
   "outputs": [],
   "source": [
    "def ensemblemodels():\n",
    "    ensembles = []\n",
    "    ensembles.append(('AB'   , AdaBoostClassifier()))\n",
    "    ensembles.append(('GBM'  , GradientBoostingClassifier()))\n",
    "    ensembles.append(('RF'   , RandomForestClassifier()))\n",
    "    ensembles.append(( 'Bagging' , BaggingClassifier()))\n",
    "    ensembles.append(('ET', ExtraTreesClassifier()))\n",
    "    return ensembles\n"
   ]
  },
  {
   "cell_type": "code",
   "execution_count": 44,
   "id": "ad620201",
   "metadata": {},
   "outputs": [],
   "source": [
    "def NormalizedModel(nameOfScaler):\n",
    "    \n",
    "    if nameOfScaler == 'standard':\n",
    "        scaler = StandardScaler()\n",
    "    elif nameOfScaler =='minmax':\n",
    "        scaler = MinMaxScaler()\n",
    "    elif nameOfScaler == 'normalizer':\n",
    "        scaler = Normalizer()\n",
    "    elif nameOfScaler == 'binarizer':\n",
    "        scaler = Binarizer()\n",
    "\n",
    "    pipelines = []\n",
    "    pipelines.append((nameOfScaler+'LR'  , Pipeline([('Scaler', scaler),('LR'  , LogisticRegression())])))\n",
    "    pipelines.append((nameOfScaler+'LDA' , Pipeline([('Scaler', scaler),('LDA' , LinearDiscriminantAnalysis())])))\n",
    "    pipelines.append((nameOfScaler+'KNN' , Pipeline([('Scaler', scaler),('KNN' , KNeighborsClassifier())])))\n",
    "    pipelines.append((nameOfScaler+'CART', Pipeline([('Scaler', scaler),('CART', DecisionTreeClassifier())])))\n",
    "    pipelines.append((nameOfScaler+'NB'  , Pipeline([('Scaler', scaler),('NB'  , GaussianNB())])))\n",
    "    pipelines.append((nameOfScaler+'SVM' , Pipeline([('Scaler', scaler),('SVM' , SVC())])))\n",
    "    pipelines.append((nameOfScaler+'AB'  , Pipeline([('Scaler', scaler),('AB'  , AdaBoostClassifier())])  ))\n",
    "    pipelines.append((nameOfScaler+'GBM' , Pipeline([('Scaler', scaler),('GMB' , GradientBoostingClassifier())])  ))\n",
    "    pipelines.append((nameOfScaler+'RF'  , Pipeline([('Scaler', scaler),('RF'  , RandomForestClassifier())])  ))\n",
    "    pipelines.append((nameOfScaler+'ET'  , Pipeline([('Scaler', scaler),('ET'  , ExtraTreesClassifier())])  ))\n",
    "\n",
    "    return pipelines\n"
   ]
  },
  {
   "cell_type": "code",
   "execution_count": 45,
   "id": "f626c3f8",
   "metadata": {},
   "outputs": [],
   "source": [
    "def fit_model(X_train, y_train,models):\n",
    "    # Test options and evaluation metric\n",
    "    num_folds = 10\n",
    "    scoring = 'accuracy'\n",
    "\n",
    "    results = []\n",
    "    names = []\n",
    "    for name, model in models:\n",
    "        kfold = KFold(n_splits=num_folds, shuffle=True, random_state=0)\n",
    "        cv_results = cross_val_score(model, X_train, y_train, cv=kfold, scoring=scoring)\n",
    "        results.append(cv_results)\n",
    "        names.append(name)\n",
    "        \n",
    "        msg = \"%s: %f (%f)\" % (name, cv_results.mean(), cv_results.std())\n",
    "\n",
    "        print(msg)\n",
    "        \n",
    "    return names, results\n"
   ]
  },
  {
   "cell_type": "code",
   "execution_count": 46,
   "id": "592935d5",
   "metadata": {},
   "outputs": [],
   "source": [
    "def save_model(model,filename):\n",
    "    pickle.dump(model, open(filename, 'wb'))\n"
   ]
  },
  {
   "cell_type": "code",
   "execution_count": 47,
   "id": "b839949b",
   "metadata": {},
   "outputs": [],
   "source": [
    "def classification_metrics(model, conf_matrix):\n",
    "    print(f\"Training Accuracy Score: {model.score(X_train, y_train) * 100:.1f}%\")\n",
    "    print(f\"Validation Accuracy Score: {model.score(X_test, y_test) * 100:.1f}%\")\n",
    "    fig,ax = plt.subplots(figsize=(8,6))\n",
    "    sns.heatmap(pd.DataFrame(conf_matrix), annot = True, cmap = 'YlGnBu',fmt = 'g')\n",
    "    ax.xaxis.set_label_position('top')\n",
    "    plt.tight_layout()\n",
    "    plt.title('Confusion Matrix', fontsize=20, y=1.1)\n",
    "    plt.ylabel('Actual label', fontsize=15)\n",
    "    plt.xlabel('Predicted label', fontsize=15)\n",
    "    plt.show()\n",
    "    print(classification_report(y_test, y_pred))\n",
    "    "
   ]
  },
  {
   "cell_type": "code",
   "execution_count": 48,
   "id": "87b8c200",
   "metadata": {},
   "outputs": [],
   "source": [
    "df = pd.read_csv('SmartCrop-Dataset.csv')"
   ]
  },
  {
   "cell_type": "code",
   "execution_count": 49,
   "id": "946acf52",
   "metadata": {},
   "outputs": [],
   "source": [
    "target ='label'\n",
    "X_train, X_test, y_train, y_test = read_in_and_split_data(df, target)"
   ]
  },
  {
   "cell_type": "code",
   "execution_count": 50,
   "id": "6e02cc9c",
   "metadata": {},
   "outputs": [
    {
     "name": "stdout",
     "output_type": "stream",
     "text": [
      "Training Accuracy Score: 99.5%\n",
      "Validation Accuracy Score: 99.3%\n"
     ]
    },
    {
     "data": {
      "image/png": "[encoded data removed]",
      "text/plain": [
       "<Figure size 576x432 with 2 Axes>"
      ]
     },
     "metadata": {},
     "output_type": "display_data"
    },
    {
     "name": "stdout",
     "output_type": "stream",
     "text": [
      "              precision    recall  f1-score   support\n",
      "\n",
      "       apple       1.00      1.00      1.00        18\n",
      "      banana       1.00      1.00      1.00        18\n",
      "   blackgram       1.00      1.00      1.00        22\n",
      "    chickpea       1.00      1.00      1.00        23\n",
      "     coconut       1.00      1.00      1.00        15\n",
      "      coffee       1.00      1.00      1.00        17\n",
      "      cotton       1.00      1.00      1.00        16\n",
      "      grapes       1.00      1.00      1.00        18\n",
      "        jute       0.88      1.00      0.93        21\n",
      " kidneybeans       1.00      1.00      1.00        20\n",
      "      lentil       1.00      1.00      1.00        17\n",
      "       maize       1.00      1.00      1.00        18\n",
      "       mango       1.00      1.00      1.00        21\n",
      "   mothbeans       1.00      1.00      1.00        25\n",
      "    mungbean       1.00      1.00      1.00        17\n",
      "   muskmelon       1.00      1.00      1.00        23\n",
      "      orange       1.00      1.00      1.00        23\n",
      "      papaya       1.00      1.00      1.00        21\n",
      "  pigeonpeas       1.00      1.00      1.00        22\n",
      " pomegranate       1.00      1.00      1.00        23\n",
      "        rice       1.00      0.88      0.94        25\n",
      "  watermelon       1.00      1.00      1.00        17\n",
      "\n",
      "    accuracy                           0.99       440\n",
      "   macro avg       0.99      0.99      0.99       440\n",
      "weighted avg       0.99      0.99      0.99       440\n",
      "\n"
     ]
    }
   ],
   "source": [
    "pipeline = make_pipeline(StandardScaler(),  GaussianNB())\n",
    "model = pipeline.fit(X_train, y_train)\n",
    "y_pred = model.predict(X_test)\n",
    "conf_matrix = confusion_matrix(y_test,y_pred)\n",
    "classification_metrics(pipeline, conf_matrix)\n"
   ]
  },
  {
   "cell_type": "code",
   "execution_count": 51,
   "id": "0e95d2c9",
   "metadata": {},
   "outputs": [],
   "source": [
    "save_model(model, 'model.pkl')"
   ]
  },
  {
   "cell_type": "code",
   "execution_count": 53,
   "id": "c7f12a7e",
   "metadata": {},
   "outputs": [],
   "source": [
    "import streamlit as st \n",
    "import pandas as pd\n",
    "import numpy as np\n",
    "import os\n",
    "import pickle\n",
    "import warnings\n",
    "\n",
    "warnings.filterwarnings(\"ignore\", message=\"Trying to unpickle estimator\")\n",
    "\n",
    "def load_model(modelfile):\n",
    "    loaded_model = pickle.load(open(modelfile, 'rb'))\n",
    "    return loaded_model\n",
    "\n",
    "def main():\n",
    "    # title\n",
    "    page_bg_img = '''\n",
    "    <div>\n",
    "    <h1 style=\"color:MEDIUMSEAGREEN;text-align:center;\"> AgriFinder: Intelligent Crop Recommendation 🌱 </h1>\n",
    "    </div>\n",
    "    <style>\n",
    "    body {\n",
    "   background-image: url(\"C:/Users/hp/Desktop/cropwall.jpg\");\n",
    "\n",
    "    background-size: cover;\n",
    "    }\n",
    "    </style>\n",
    "    '''\n",
    "\n",
    "    st.markdown(page_bg_img, unsafe_allow_html=True)\n",
    "\n",
    "    col = st.columns(1)[0]\n",
    "\n",
    "    with col:\n",
    "        st.subheader(\" Find out the most suitable crop to grow in your farm 👨‍🌾\")\n",
    "        N = st.number_input(\"Nitrogen [KG/HA]\", 1,10000)\n",
    "        P = st.number_input(\"Phosporus [KG/HA]\", 1,10000)\n",
    "        K = st.number_input(\"Potassium [KG/HA]\", 1,10000)\n",
    "        temp = st.number_input(\"Temperature [C]\",0.0,100000.0)\n",
    "        humidity = st.number_input(\"Humidity in %\", 0.0,100000.0)\n",
    "        ph = st.number_input(\"Ph\", 0.0,100000.0)\n",
    "        rainfall = st.number_input(\"Rainfall in mm\",0.0,100000.0)\n",
    "        state_list = [\"Andhra Pradesh\", \"Assam\", \"Bihar\", \"Goa\", \"Gujarat\", \"Haryana\", \"Himachal Pradesh\", \"Jammu and Kashmir\", \"Karnataka\", \"Kerala\", \"Madhya Pradesh\", \"Maharashtra\", \"Manipur\", \"Meghalaya\", \"Mizoram\", \"Nagaland\", \"Odisha\", \"Punjab\", \"Rajasthan\", \"Pondicherry\", \"Tamil Nadu\", \"Telangana\", \"Tripura\", \"Uttarakhand\", \"West Bengal\", \"Andaman and Nicobar\", \"Chattisgarh\"]\n",
    "        state_name = st.selectbox(\"State\",state_list)\n",
    "        soil_list=[\"Sandy soil\",\"Red soil\",\"Laterite soil\",\" Desert soil\",\" Clayey soil\",\"Sandy loam\",\"Alluvial soil\",\"Sandy Clay loam\",\"Black soil\",\"Regular soil\",\"Inceptisols\",\"Loamy soil\",\"Delta alluvium\",\"Mountain soil.\"]\n",
    "        soilType=st.selectbox(\"SoilType\",soil_list)\n",
    "        feature_list = [N, P, K, temp, humidity, ph, rainfall]\n",
    "        single_pred = np.array(feature_list).reshape(1,-1)\n",
    "        \n",
    "        if st.button('Predict'):\n",
    "\n",
    "            loaded_model = load_model('model.pkl')\n",
    "            prediction = loaded_model.predict(single_pred)\n",
    "            col.write('''\n",
    "            ## Results 🔍 \n",
    "            ''')\n",
    "            col.success(f\"{prediction.item().title()} are recommended by the A.I for your farm.\")\n",
    "    \n",
    "    hide_menu_style = \"\"\"\n",
    "    <style>\n",
    "    .block-container {padding: 2rem 1rem 3rem;}\n",
    "    #MainMenu {visibility: hidden;}\n",
    "    </style>\n",
    "    \"\"\"\n",
    "\n",
    "    st.markdown(hide_menu_style, unsafe_allow_html=True)\n",
    "\n",
    "if __name__ == '__main__':\n",
    "    main()\n"
   ]
  },
  {
   "cell_type": "code",
   "execution_count": null,
   "id": "7c7361b8",
   "metadata": {},
   "outputs": [],
   "source": []
  }
 ],
 "metadata": {
  "kernelspec": {
   "display_name": "Python 3 (ipykernel)",
   "language": "python",
   "name": "python3"
  },
  "language_info": {
   "codemirror_mode": {
    "name": "ipython",
    "version": 3
   },
   "file_extension": ".py",
   "mimetype": "text/x-python",
   "name": "python",
   "nbconvert_exporter": "python",
   "pygments_lexer": "ipython3",
   "version": "3.9.12"
  }
 },
 "nbformat": 4,
 "nbformat_minor": 5
}
